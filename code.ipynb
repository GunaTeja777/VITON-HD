{
 "cells": [
  {
   "cell_type": "code",
   "execution_count": 1,
   "id": "40ce1b4c",
   "metadata": {},
   "outputs": [
    {
     "name": "stdout",
     "output_type": "stream",
     "text": [
      "[WinError 2] The system cannot find the file specified: '/content'\n",
      "c:\\Users\\tejag\\OneDrive\\Desktop\\work\\VITON-HD\n",
      "c:\\Users\\tejag\\OneDrive\\Desktop\\work\\VITON-HD\\VITON-HD\n"
     ]
    },
    {
     "name": "stderr",
     "output_type": "stream",
     "text": [
      "Cloning into 'VITON-HD'...\n"
     ]
    }
   ],
   "source": [
    "%cd /content\n",
    "!git clone https://github.com/shadow2496/VITON-HD.git\n",
    "%cd VITON-HD\n"
   ]
  },
  {
   "cell_type": "code",
   "execution_count": null,
   "id": "2b6a0f12",
   "metadata": {},
   "outputs": [],
   "source": []
  }
 ],
 "metadata": {
  "kernelspec": {
   "display_name": "base",
   "language": "python",
   "name": "python3"
  },
  "language_info": {
   "codemirror_mode": {
    "name": "ipython",
    "version": 3
   },
   "file_extension": ".py",
   "mimetype": "text/x-python",
   "name": "python",
   "nbconvert_exporter": "python",
   "pygments_lexer": "ipython3",
   "version": "3.12.7"
  }
 },
 "nbformat": 4,
 "nbformat_minor": 5
}
