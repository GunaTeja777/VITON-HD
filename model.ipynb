{
 "cells": [
  {
   "cell_type": "code",
   "execution_count": 1,
   "id": "f9b268d2",
   "metadata": {},
   "outputs": [
    {
     "name": "stderr",
     "output_type": "stream",
     "text": [
      "Cloning into 'VITON-HD'...\n"
     ]
    }
   ],
   "source": [
    "!git clone https://github.com/shadow2496/VITON-HD"
   ]
  },
  {
   "cell_type": "code",
   "execution_count": null,
   "id": "3c9f5b1e",
   "metadata": {},
   "outputs": [],
   "source": []
  }
 ],
 "metadata": {
  "kernelspec": {
   "display_name": ".venv",
   "language": "python",
   "name": "python3"
  },
  "language_info": {
   "codemirror_mode": {
    "name": "ipython",
    "version": 3
   },
   "file_extension": ".py",
   "mimetype": "text/x-python",
   "name": "python",
   "nbconvert_exporter": "python",
   "pygments_lexer": "ipython3",
   "version": "3.9.13"
  }
 },
 "nbformat": 4,
 "nbformat_minor": 5
}
